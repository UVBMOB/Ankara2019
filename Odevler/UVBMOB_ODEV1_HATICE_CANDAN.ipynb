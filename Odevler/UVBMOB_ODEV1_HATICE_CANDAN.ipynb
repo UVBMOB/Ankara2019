{
 "cells": [
  {
   "cell_type": "code",
   "execution_count": 1,
   "metadata": {},
   "outputs": [],
   "source": [
    "import numpy as np\n",
    "import scipy.stats as st\n",
    "from scipy.stats import norm\n",
    "import seaborn as sns\n",
    "from scipy import stats\n",
    "import scipy\n",
    "import matplotlib.pyplot as plt"
   ]
  },
  {
   "cell_type": "code",
   "execution_count": 8,
   "metadata": {},
   "outputs": [],
   "source": [
    "class Books():\n",
    "    populasyon=[]\n",
    "    def __init__(self,name,job,age,book_number_month): \n",
    "        print(\"New member added ! Welcome to book club\",name)\n",
    "        self.name = name\n",
    "        self.job = job\n",
    "        self.age = age\n",
    "        self.book_number_month = book_number_month\n",
    "        self.day = 0\n",
    "        self.populasyon.append(self.book_number_month)\n",
    "    def distribution():\n",
    "        orneklem=Books.populasyon\n",
    "        print(\"Mean  : \", np.mean(orneklem))\n",
    "        print(\"Std   : \",np.std(orneklem))\n",
    "        [a,b]=st.t.interval(alpha = 0.95, df = len(orneklem) - 1, loc=np.mean(orneklem), scale=st.sem(orneklem))\n",
    "        print(\"Scale : \",st.t.interval(alpha = 0.95, df = len(orneklem) - 1, loc=np.mean(orneklem), scale=st.sem(orneklem)))\n",
    "        orneklem = norm.rvs(size=len(Books.populasyon), loc=0,scale=1)\n",
    "        ax = sns.distplot(orneklem)\n",
    "        ax.set(xlabel='Number of books',ylabel ='Frequency',title = 'Distribution Diagram')\n",
    "        for i in range(len(orneklem)):\n",
    "            pdf_val=stats.norm(0,0.1).pdf(i)\n",
    "            print('Pdf[%d]:'%(i),pdf_val)\n",
    "        for k in range(len(orneklem)):\n",
    "            cdf_val = scipy.stats.norm.cdf(k)\n",
    "            print('Cdf[%d]:'%(k),cdf_val) "
   ]
  },
  {
   "cell_type": "code",
   "execution_count": 9,
   "metadata": {},
   "outputs": [
    {
     "name": "stdout",
     "output_type": "stream",
     "text": [
      "New member added ! Welcome to book club Hatice\n",
      "New member added ! Welcome to book club Ayse\n",
      "New member added ! Welcome to book club Arzu\n",
      "New member added ! Welcome to book club Binnaz\n",
      "New member added ! Welcome to book club Gamze\n",
      "New member added ! Welcome to book club Mehmet\n",
      "New member added ! Welcome to book club Ecrin\n",
      "New member added ! Welcome to book club Ahmet\n",
      "New member added ! Welcome to book club Hakan\n",
      "New member added ! Welcome to book club Aysu\n"
     ]
    }
   ],
   "source": [
    "hatice = Books(\"Hatice\",\"Engineer\",24,5)  \n",
    "ayse = Books(\"Ayse\",\"Teacher\",28,7)    \n",
    "arzu = Books(\"Arzu\",\"Doctor\",29,3)    \n",
    "binnaz = Books(\"Binnaz\",\"Dentist\",30,3) \n",
    "gamze = Books(\"Gamze\",\"Engineer\",38,6)     \n",
    "mehmet = Books(\"Mehmet\",\"Cook\",24,1) \n",
    "ecrin = Books(\"Ecrin\",\"Scientist\",43,4)    \n",
    "ahmet = Books(\"Ahmet\",\"Retired\",68,10) \n",
    "hakan = Books(\"Hakan\",\"Director\",38,2)   \n",
    "aysu = Books(\"Aysu\",\"Student\",19,8)          \n"
   ]
  },
  {
   "cell_type": "code",
   "execution_count": 10,
   "metadata": {},
   "outputs": [
    {
     "name": "stdout",
     "output_type": "stream",
     "text": [
      "Mean  :  4.9\n",
      "Std   :  2.7\n",
      "Scale :  (2.864058553533108, 6.935941446466893)\n",
      "Pdf[0]: 3.989422804014327\n",
      "Pdf[1]: 7.694598626706419e-22\n",
      "Pdf[2]: 5.5209483621597635e-87\n",
      "Pdf[3]: 1.4736461348785476e-195\n",
      "Pdf[4]: 0.0\n",
      "Pdf[5]: 0.0\n",
      "Pdf[6]: 0.0\n",
      "Pdf[7]: 0.0\n",
      "Pdf[8]: 0.0\n",
      "Pdf[9]: 0.0\n",
      "Cdf[0]: 0.5\n",
      "Cdf[1]: 0.8413447460685429\n",
      "Cdf[2]: 0.9772498680518208\n",
      "Cdf[3]: 0.9986501019683699\n",
      "Cdf[4]: 0.9999683287581669\n",
      "Cdf[5]: 0.9999997133484281\n",
      "Cdf[6]: 0.9999999990134123\n",
      "Cdf[7]: 0.9999999999987201\n",
      "Cdf[8]: 0.9999999999999993\n",
      "Cdf[9]: 1.0\n"
     ]
    },
    {
     "data": {
      "image/png": "[encoded data removed]",
      "text/plain": [
       "<Figure size 432x288 with 1 Axes>"
      ]
     },
     "metadata": {
      "needs_background": "light"
     },
     "output_type": "display_data"
    }
   ],
   "source": [
    "Books.distribution() "
   ]
  },
  {
   "cell_type": "code",
   "execution_count": null,
   "metadata": {},
   "outputs": [],
   "source": []
  }
 ],
 "metadata": {
  "kernelspec": {
   "display_name": "Python 3",
   "language": "python",
   "name": "python3"
  },
  "language_info": {
   "codemirror_mode": {
    "name": "ipython",
    "version": 3
   },
   "file_extension": ".py",
   "mimetype": "text/x-python",
   "name": "python",
   "nbconvert_exporter": "python",
   "pygments_lexer": "ipython3",
   "version": "3.7.3"
  }
 },
 "nbformat": 4,
 "nbformat_minor": 2
}
