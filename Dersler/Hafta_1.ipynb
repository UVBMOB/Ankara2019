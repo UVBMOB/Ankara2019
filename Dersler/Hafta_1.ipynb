{
 "cells": [
  {
   "cell_type": "markdown",
   "metadata": {},
   "source": [
    "## Statistical Dataset Analysis "
   ]
  },
  {
   "cell_type": "markdown",
   "metadata": {},
   "source": [
    "### Tanımlayıcı İstatistikler\n",
    "(Descriptive Statistics )\n",
    "\n",
    "Yapılanlar:\n",
    "* Veri Toplama\n",
    "* veri Düzenlenme\n",
    "* Veriye Ait Karakteristik Özellikleri Tanımlanma\n",
    "\n",
    "Amaç: \n",
    "* Veriyi tanımlamak\n",
    "\n",
    "\n",
    "\n",
    "\n",
    "\n"
   ]
  },
  {
   "cell_type": "markdown",
   "metadata": {},
   "source": [
    "### Çıkarımsal İstatistikler\n",
    "(Inferential Statistics)\n",
    "\n",
    "İçerik:\n",
    "* Hipotez Testi\n",
    "* Modelleme ve Tahminleme\n",
    "\n",
    "Amaç: \n",
    "* Örnek veri kümesi kullanılarak popülasyon karakteristiği hakkında karar verilmesi\n"
   ]
  },
  {
   "cell_type": "markdown",
   "metadata": {},
   "source": [
    "## İstatistiksel Terimler\n",
    "\n",
    "Popülasyon (Population) Kümesi: Araştırmada hedef alınan verinin tümü\n",
    "\n",
    "Örneklem (Sample): Popülasyon kümesinin bir kısmı\n",
    "\n",
    "\n",
    "Parametre (Parameter): Popülasyonun özet ölçüleri\n",
    "\t\t     (ör. Popülasyon Ortalaması, Popülasyon Standard Sapması)\n",
    "\n",
    "Örnek İstatistiği (Sample Statistic): Örneklemin özet ölçüleri\n",
    " \t\t                                  (ör. Örneklem Ortalaması, Örneklem Standard Sapması)\n",
    "\n"
   ]
  },
  {
   "cell_type": "markdown",
   "metadata": {},
   "source": [
    "### Nokta Tahmini (Point Estimation)\n",
    "Popülasyon Ortalaması (µ) & Standard Sapmasının (σ)Tahmini:"
   ]
  },
  {
   "cell_type": "markdown",
   "metadata": {},
   "source": [
    "### Nokta Tahmini (Point Estimation)\n",
    "Popülasyon Oranı (π) & Tahmin Hatasının Tahmini:\n"
   ]
  },
  {
   "cell_type": "markdown",
   "metadata": {},
   "source": [
    "### Aralık Tahmini (Interval Estimation)\n",
    "* 𝐿≤Ɵ≤𝑈\n",
    "* L - Alt Sınır (Lower Bound): 𝐹^(−1) (Ɵ; α/2)\n",
    "* U - Üst Sınır (Upper Bound): 𝐹^(−1) (Ɵ; 1−α/2)\n",
    "\n",
    "1. Popülasyon Ortalaması (µ) için Güven Aralığı:\n",
    "2. Popülasyon Oranı (π) için Güven Aralığı:\n",
    "    \n",
    "    \n",
    "    "
   ]
  },
  {
   "cell_type": "markdown",
   "metadata": {},
   "source": [
    "## Hipotez Testleri"
   ]
  },
  {
   "cell_type": "markdown",
   "metadata": {},
   "source": [
    "Hata Tipleri: \n",
    "\n",
    "1. Tip Hata (Type I Error) α= 𝑃𝑟(𝐻_0  𝑅𝑒𝑑𝑑𝑒𝑡𝑚𝑒|〖𝐺𝑒𝑟ç𝑒𝑘𝑡𝑒 𝐻〗_0  𝑑𝑜ğ𝑟𝑢)\n",
    "\n",
    "\n",
    "2. Tip Hata (Type II Error) β= 𝑃𝑟(𝐻_0  𝑅𝑒𝑑𝑑𝑒𝑡𝑚𝑒𝑚𝑒|〖𝐺𝑒𝑟ç𝑒𝑘𝑡𝑒 𝐻〗_0  ℎ𝑎𝑡𝑎𝑙𝚤)\n",
    "\n"
   ]
  },
  {
   "cell_type": "markdown",
   "metadata": {},
   "source": [
    "### P değeri\n",
    "p-değeri <  α ise sıfır hipotezi α hata payı düzeyinde red edilir. \n",
    "\n",
    "p-değeri ≥  α ise sıfır hipotezi α hata payı düzeyinde red edilmez. \n"
   ]
  },
  {
   "cell_type": "code",
   "execution_count": null,
   "metadata": {},
   "outputs": [],
   "source": []
  }
 ],
 "metadata": {
  "kernelspec": {
   "display_name": "Python 3",
   "language": "python",
   "name": "python3"
  },
  "language_info": {
   "codemirror_mode": {
    "name": "ipython",
    "version": 3
   },
   "file_extension": ".py",
   "mimetype": "text/x-python",
   "name": "python",
   "nbconvert_exporter": "python",
   "pygments_lexer": "ipython3",
   "version": "3.7.4"
  }
 },
 "nbformat": 4,
 "nbformat_minor": 4
}
