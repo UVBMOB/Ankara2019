{
 "cells": [
  {
   "cell_type": "markdown",
   "metadata": {},
   "source": [
    "## Uygulamalı Veri Bilimi ve Makine Öğrenimi Eğitim Kampı \n",
    "\n",
    "### Kodluyoruz Ağustos-Eylül 2019 Ankara"
   ]
  },
  {
   "cell_type": "markdown",
   "metadata": {},
   "source": [
    "### 2. hafta"
   ]
  },
  {
   "cell_type": "markdown",
   "metadata": {},
   "source": [
    "Geçtiğimiz hafta istatistik temellerine değindik\n",
    "\n",
    "Anahtar kelimeler:\n",
    "* Z Table\n",
    "* Normal dağılım (Gaussian) (çan)\n",
    "* Uniform dağılım\n",
    "* Poisson dağılımı\n",
    "* Probability Density Function (PDF)\n",
    "* Cumulative Distribution Function (CDF)\n"
   ]
  },
  {
   "cell_type": "markdown",
   "metadata": {},
   "source": [
    "## IRIS dataseti"
   ]
  },
  {
   "cell_type": "markdown",
   "metadata": {},
   "source": [
    "### Imports"
   ]
  },
  {
   "cell_type": "code",
   "execution_count": 1,
   "metadata": {},
   "outputs": [],
   "source": [
    "import statsmodels.stats.api as sms # İstatistik Kütüphanesi\n",
    "import os # Operating system kütüphanesi, çalıştığımız directory'yi değiştiririz\n",
    "import pandas as pd # Dataframe adında python'un özel tablo kütüphanesi\n",
    "import seaborn as sns\n",
    "from sklearn import datasets #Sckit-Learning kütüphanesindeki hazır 'toy' datasetler\n",
    "import matplotlib.pyplot as plt # Plot etmek için bu şekilde çağırıyoruz\n",
    "import numpy as np"
   ]
  },
  {
   "cell_type": "code",
   "execution_count": 2,
   "metadata": {},
   "outputs": [],
   "source": [
    "#os.chdir(r\"C:\\Users\\neutr\\Desktop\\kodluyoruz bootcamp\") #directory değiştirebiliyoruz ama şimdilik gerek yok\n",
    "iris = sns.load_dataset(\"iris\") #hazır datasetini yüklüyoruz"
   ]
  },
  {
   "cell_type": "code",
   "execution_count": 3,
   "metadata": {},
   "outputs": [
    {
     "data": {
      "text/html": [
       "<div>\n",
       "<style scoped>\n",
       "    .dataframe tbody tr th:only-of-type {\n",
       "        vertical-align: middle;\n",
       "    }\n",
       "\n",
       "    .dataframe tbody tr th {\n",
       "        vertical-align: top;\n",
       "    }\n",
       "\n",
       "    .dataframe thead th {\n",
       "        text-align: right;\n",
       "    }\n",
       "</style>\n",
       "<table border=\"1\" class=\"dataframe\">\n",
       "  <thead>\n",
       "    <tr style=\"text-align: right;\">\n",
       "      <th></th>\n",
       "      <th>sepal_length</th>\n",
       "      <th>sepal_width</th>\n",
       "      <th>petal_length</th>\n",
       "      <th>petal_width</th>\n",
       "      <th>species</th>\n",
       "    </tr>\n",
       "  </thead>\n",
       "  <tbody>\n",
       "    <tr>\n",
       "      <th>0</th>\n",
       "      <td>5.1</td>\n",
       "      <td>3.5</td>\n",
       "      <td>1.4</td>\n",
       "      <td>0.2</td>\n",
       "      <td>setosa</td>\n",
       "    </tr>\n",
       "    <tr>\n",
       "      <th>1</th>\n",
       "      <td>4.9</td>\n",
       "      <td>3.0</td>\n",
       "      <td>1.4</td>\n",
       "      <td>0.2</td>\n",
       "      <td>setosa</td>\n",
       "    </tr>\n",
       "    <tr>\n",
       "      <th>2</th>\n",
       "      <td>4.7</td>\n",
       "      <td>3.2</td>\n",
       "      <td>1.3</td>\n",
       "      <td>0.2</td>\n",
       "      <td>setosa</td>\n",
       "    </tr>\n",
       "    <tr>\n",
       "      <th>3</th>\n",
       "      <td>4.6</td>\n",
       "      <td>3.1</td>\n",
       "      <td>1.5</td>\n",
       "      <td>0.2</td>\n",
       "      <td>setosa</td>\n",
       "    </tr>\n",
       "    <tr>\n",
       "      <th>4</th>\n",
       "      <td>5.0</td>\n",
       "      <td>3.6</td>\n",
       "      <td>1.4</td>\n",
       "      <td>0.2</td>\n",
       "      <td>setosa</td>\n",
       "    </tr>\n",
       "  </tbody>\n",
       "</table>\n",
       "</div>"
      ],
      "text/plain": [
       "   sepal_length  sepal_width  petal_length  petal_width species\n",
       "0           5.1          3.5           1.4          0.2  setosa\n",
       "1           4.9          3.0           1.4          0.2  setosa\n",
       "2           4.7          3.2           1.3          0.2  setosa\n",
       "3           4.6          3.1           1.5          0.2  setosa\n",
       "4           5.0          3.6           1.4          0.2  setosa"
      ]
     },
     "execution_count": 3,
     "metadata": {},
     "output_type": "execute_result"
    }
   ],
   "source": [
    "iris.head() # verisetinin ilk 5 terimi ve headerların ismine bakıyoruz (pandas dataframe özelliği)"
   ]
  },
  {
   "cell_type": "code",
   "execution_count": 4,
   "metadata": {},
   "outputs": [
    {
     "data": {
      "text/plain": [
       "Text(0, 0.5, 'sepal width (cm)')"
      ]
     },
     "execution_count": 4,
     "metadata": {},
     "output_type": "execute_result"
    },
    {
     "data": {
      "image/png": "[encoded data removed]",
      "text/plain": [
       "<Figure size 432x288 with 1 Axes>"
      ]
     },
     "metadata": {
      "needs_background": "light"
     },
     "output_type": "display_data"
    }
   ],
   "source": [
    "fig, ax = plt.subplots() #figür oluşturuyoruz\n",
    "ax.scatter(iris['sepal_length'],iris['sepal_width']) # scatter plot yaptırarak yaprak uzunluğu ve genişliğini alıyoruz\n",
    "ax.set_title('Iris Dataset')\n",
    "ax.set_xlabel('sepal length (cm)')\n",
    "ax.set_ylabel('sepal width (cm)')"
   ]
  },
  {
   "cell_type": "code",
   "execution_count": 5,
   "metadata": {},
   "outputs": [],
   "source": [
    "colors={'setosa' : 'r', 'versicolor' : 'g', 'virginica' : 'b'}\n"
   ]
  },
  {
   "cell_type": "code",
   "execution_count": 6,
   "metadata": {},
   "outputs": [
    {
     "data": {
      "text/plain": [
       "Text(0, 0.5, 'sepal width (cm)')"
      ]
     },
     "execution_count": 6,
     "metadata": {},
     "output_type": "execute_result"
    },
    {
     "data": {
      "image/png": "[encoded data removed]",
      "text/plain": [
       "<Figure size 432x288 with 1 Axes>"
      ]
     },
     "metadata": {
      "needs_background": "light"
     },
     "output_type": "display_data"
    }
   ],
   "source": [
    "fig, ax = plt.subplots() #Diğer figür 3 türe de hakim ancak tek renk var, çiçeklerin rengine göre plot edelim\n",
    "for i in range(len(iris['sepal_length'])):\n",
    "    ax.scatter(iris['sepal_length'][i],iris['sepal_width'][i],color=colors[iris['species'][i]])\n",
    "ax.set_title('Iris Dataset')\n",
    "ax.set_xlabel('sepal length (cm)')\n",
    "ax.set_ylabel('sepal width (cm)')"
   ]
  },
  {
   "cell_type": "code",
   "execution_count": 7,
   "metadata": {},
   "outputs": [
    {
     "data": {
      "text/plain": [
       "Text(0, 0.5, 'sepal width (cm)')"
      ]
     },
     "execution_count": 7,
     "metadata": {},
     "output_type": "execute_result"
    },
    {
     "data": {
      "image/png": "[encoded data removed]",
      "text/plain": [
       "<Figure size 432x288 with 1 Axes>"
      ]
     },
     "metadata": {
      "needs_background": "light"
     },
     "output_type": "display_data"
    }
   ],
   "source": [
    "fig, ax = plt.subplots()\n",
    "for i in range(len(iris['petal_length'])):\n",
    "    ax.scatter(iris['petal_length'][i],iris['petal_width'][i],color=colors[iris['species'][i]])\n",
    "ax.set_title('Iris Dataset')\n",
    "ax.set_xlabel('sepal length (cm)')\n",
    "ax.set_ylabel('sepal width (cm)')"
   ]
  },
  {
   "cell_type": "code",
   "execution_count": 8,
   "metadata": {},
   "outputs": [],
   "source": [
    "columns = iris.columns.drop(['species'])"
   ]
  },
  {
   "cell_type": "code",
   "execution_count": 9,
   "metadata": {},
   "outputs": [
    {
     "data": {
      "text/plain": [
       "<matplotlib.legend.Legend at 0x20ee0f2ffc8>"
      ]
     },
     "execution_count": 9,
     "metadata": {},
     "output_type": "execute_result"
    },
    {
     "data": {
      "image/png": "[encoded data removed]",
      "text/plain": [
       "<Figure size 432x288 with 1 Axes>"
      ]
     },
     "metadata": {
      "needs_background": "light"
     },
     "output_type": "display_data"
    }
   ],
   "source": [
    "x_data = range (0, iris.shape[0])\n",
    "fig, ax = plt.subplots()\n",
    "for column in columns:\n",
    "    ax.plot(x_data, iris[column])\n",
    "ax.set_title('Iris Dataset')\n",
    "ax.legend(columns)\n"
   ]
  },
  {
   "cell_type": "code",
   "execution_count": 10,
   "metadata": {},
   "outputs": [
    {
     "data": {
      "text/plain": [
       "Index(['sepal_length', 'sepal_width', 'petal_length', 'petal_width'], dtype='object')"
      ]
     },
     "execution_count": 10,
     "metadata": {},
     "output_type": "execute_result"
    }
   ],
   "source": [
    "columns"
   ]
  },
  {
   "cell_type": "code",
   "execution_count": 11,
   "metadata": {},
   "outputs": [
    {
     "data": {
      "text/plain": [
       "Text(0, 0.5, 'Count')"
      ]
     },
     "execution_count": 11,
     "metadata": {},
     "output_type": "execute_result"
    },
    {
     "data": {
      "image/png": "[encoded data removed]",
      "text/plain": [
       "<Figure size 720x504 with 1 Axes>"
      ]
     },
     "metadata": {
      "needs_background": "light"
     },
     "output_type": "display_data"
    }
   ],
   "source": [
    "plt.figure(figsize=(10,7))\n",
    "plt.hist(iris['sepal_length'],bins=20, color='green')\n",
    "plt.title(\"Sepal length in cm\")\n",
    "plt.xlabel(\"sepal length cm\")\n",
    "plt.ylabel(\"Count\")"
   ]
  },
  {
   "cell_type": "code",
   "execution_count": 12,
   "metadata": {},
   "outputs": [
    {
     "name": "stdout",
     "output_type": "stream",
     "text": [
      "mean: 21.11111111111111\n",
      "median: 9.0\n"
     ]
    }
   ],
   "source": [
    "test_array=[3,5,7,8,9,10,11,13,124]\n",
    "print(\"mean: \" + str(np.mean(test_array)))\n",
    "print(\"median: \" + str(np.median(test_array)))\n",
    "#median outlierlara karşı daha robust, mean outlier durumlarına karşı hassas"
   ]
  },
  {
   "cell_type": "code",
   "execution_count": 13,
   "metadata": {},
   "outputs": [],
   "source": [
    "# Quetile bulmak:\n",
    "# elimizdeki veriyi 4 çeyreğe bölüyoruz\n",
    "test_array=[3,5,7,8,9,10,11,13,124,35,36,23,21,12,13,14,15,60,32,34,1,3,5,8,6,7]"
   ]
  },
  {
   "cell_type": "code",
   "execution_count": 14,
   "metadata": {},
   "outputs": [
    {
     "name": "stdout",
     "output_type": "stream",
     "text": [
      "1. Quertile %25: 7.0\n",
      "2. Quertile %50: 11.5\n",
      "3. Quertile %75: 22.5\n",
      "4. Quertile %100: 124.0\n",
      "IQR (Inter Quertile Range) : 15.5\n",
      "Bu sayıdan küçükse outlier diyebiliriz: -16.25\n",
      "Bu sayıdan büyükse outlier diyebiliriz: 45.75\n",
      "[124, 60]\n"
     ]
    }
   ],
   "source": [
    "print(\"1. Quertile %25: \" + str(np.percentile(q=25, a=test_array))) \n",
    "print(\"2. Quertile %50: \" + str(np.percentile(q=50, a=test_array))) \n",
    "print(\"3. Quertile %75: \" + str(np.percentile(q=75, a=test_array))) \n",
    "print(\"4. Quertile %100: \" + str(np.percentile(q=100, a=test_array)))\n",
    "Q3=np.percentile(q=75, a=test_array)\n",
    "Q1=np.percentile(q=25, a=test_array)\n",
    "IQR=Q3-Q1\n",
    "print(\"IQR (Inter Quertile Range) : \" + str(IQR))\n",
    "outlier=[]\n",
    "outlier_min=Q1-1.5*IQR\n",
    "outlier_max=Q3+1.5*IQR\n",
    "for i in test_array:\n",
    "    if i<outlier_min or i>outlier_max:\n",
    "        outlier.append(i)\n",
    "print(\"Bu sayıdan küçükse outlier diyebiliriz: \" +str(outlier_min))\n",
    "print(\"Bu sayıdan büyükse outlier diyebiliriz: \" +str(outlier_max))\n",
    "print(outlier)"
   ]
  },
  {
   "cell_type": "code",
   "execution_count": 15,
   "metadata": {},
   "outputs": [
    {
     "data": {
      "text/plain": [
       "<matplotlib.axes._subplots.AxesSubplot at 0x20ee11a6988>"
      ]
     },
     "execution_count": 15,
     "metadata": {},
     "output_type": "execute_result"
    },
    {
     "data": {
      "image/png": "[encoded data removed]",
      "text/plain": [
       "<Figure size 432x288 with 1 Axes>"
      ]
     },
     "metadata": {
      "needs_background": "light"
     },
     "output_type": "display_data"
    }
   ],
   "source": [
    "plt.figure()\n",
    "iris.boxplot()"
   ]
  },
  {
   "cell_type": "code",
   "execution_count": 16,
   "metadata": {},
   "outputs": [
    {
     "data": {
      "text/plain": [
       "Text(0, 0.5, 'Count')"
      ]
     },
     "execution_count": 16,
     "metadata": {},
     "output_type": "execute_result"
    },
    {
     "data": {
      "image/png": "[encoded data removed]",
      "text/plain": [
       "<Figure size 1152x1152 with 8 Axes>"
      ]
     },
     "metadata": {
      "needs_background": "light"
     },
     "output_type": "display_data"
    }
   ],
   "source": [
    "f, axs = plt.subplots(2,2,figsize=(16,16))\n",
    "\n",
    "ax = f.add_subplot(221)\n",
    "plt.hist(iris['sepal_length'],bins=20, color='green')\n",
    "plt.title(\"Sepal length in cm\")\n",
    "plt.xlabel(\"sepal length cm\")\n",
    "plt.ylabel(\"Count\")\n",
    "\n",
    "ax2 = f.add_subplot(222)\n",
    "plt.hist(iris['sepal_width'],bins=20, color='blue')\n",
    "plt.title(\"Sepal width in cm\")\n",
    "plt.xlabel(\"sepal width cm\")\n",
    "plt.ylabel(\"Count\")\n",
    "\n",
    "ax2 = f.add_subplot(223)\n",
    "plt.hist(iris['petal_length'],bins=20, color='red')\n",
    "plt.title(\"Petal length in cm\")\n",
    "plt.xlabel(\"Petal length cm\")\n",
    "plt.ylabel(\"Count\")\n",
    "\n",
    "ax2 = f.add_subplot(224)\n",
    "plt.hist(iris['petal_width'],bins=20, color='yellow')\n",
    "plt.title(\"Petal width in cm\")\n",
    "plt.xlabel(\"Petal width cm\")\n",
    "plt.ylabel(\"Count\")"
   ]
  },
  {
   "cell_type": "code",
   "execution_count": 17,
   "metadata": {},
   "outputs": [
    {
     "data": {
      "text/plain": [
       "Index(['sepal_length', 'sepal_width', 'petal_length', 'petal_width'], dtype='object')"
      ]
     },
     "execution_count": 17,
     "metadata": {},
     "output_type": "execute_result"
    }
   ],
   "source": [
    "columns"
   ]
  },
  {
   "cell_type": "code",
   "execution_count": 20,
   "metadata": {},
   "outputs": [
    {
     "data": {
      "text/html": [
       "<div>\n",
       "<style scoped>\n",
       "    .dataframe tbody tr th:only-of-type {\n",
       "        vertical-align: middle;\n",
       "    }\n",
       "\n",
       "    .dataframe tbody tr th {\n",
       "        vertical-align: top;\n",
       "    }\n",
       "\n",
       "    .dataframe thead th {\n",
       "        text-align: right;\n",
       "    }\n",
       "</style>\n",
       "<table border=\"1\" class=\"dataframe\">\n",
       "  <thead>\n",
       "    <tr style=\"text-align: right;\">\n",
       "      <th></th>\n",
       "      <th>sepal_length</th>\n",
       "      <th>sepal_width</th>\n",
       "      <th>petal_length</th>\n",
       "      <th>petal_width</th>\n",
       "    </tr>\n",
       "  </thead>\n",
       "  <tbody>\n",
       "    <tr>\n",
       "      <th>sepal_length</th>\n",
       "      <td>1.000000</td>\n",
       "      <td>-0.117570</td>\n",
       "      <td>0.871754</td>\n",
       "      <td>0.817941</td>\n",
       "    </tr>\n",
       "    <tr>\n",
       "      <th>sepal_width</th>\n",
       "      <td>-0.117570</td>\n",
       "      <td>1.000000</td>\n",
       "      <td>-0.428440</td>\n",
       "      <td>-0.366126</td>\n",
       "    </tr>\n",
       "    <tr>\n",
       "      <th>petal_length</th>\n",
       "      <td>0.871754</td>\n",
       "      <td>-0.428440</td>\n",
       "      <td>1.000000</td>\n",
       "      <td>0.962865</td>\n",
       "    </tr>\n",
       "    <tr>\n",
       "      <th>petal_width</th>\n",
       "      <td>0.817941</td>\n",
       "      <td>-0.366126</td>\n",
       "      <td>0.962865</td>\n",
       "      <td>1.000000</td>\n",
       "    </tr>\n",
       "  </tbody>\n",
       "</table>\n",
       "</div>"
      ],
      "text/plain": [
       "              sepal_length  sepal_width  petal_length  petal_width\n",
       "sepal_length      1.000000    -0.117570      0.871754     0.817941\n",
       "sepal_width      -0.117570     1.000000     -0.428440    -0.366126\n",
       "petal_length      0.871754    -0.428440      1.000000     0.962865\n",
       "petal_width       0.817941    -0.366126      0.962865     1.000000"
      ]
     },
     "execution_count": 20,
     "metadata": {},
     "output_type": "execute_result"
    }
   ],
   "source": [
    "iris_corr=iris.corr()\n",
    "iris_corr"
   ]
  },
  {
   "cell_type": "code",
   "execution_count": 26,
   "metadata": {},
   "outputs": [
    {
     "data": {
      "image/png": "[encoded data removed]",
      "text/plain": [
       "<Figure size 288x288 with 1 Axes>"
      ]
     },
     "metadata": {
      "needs_background": "light"
     },
     "output_type": "display_data"
    }
   ],
   "source": [
    "plt.matshow(corr)\n",
    "plt.show()"
   ]
  },
  {
   "cell_type": "code",
   "execution_count": 32,
   "metadata": {},
   "outputs": [
    {
     "data": {
      "text/html": [
       "<style  type=\"text/css\" >\n",
       "    #T_48eb5c5e_cbe0_11e9_8868_c85b76dfbccarow0_col0 {\n",
       "            background-color:  #b40426;\n",
       "            color:  #f1f1f1;\n",
       "        }    #T_48eb5c5e_cbe0_11e9_8868_c85b76dfbccarow0_col1 {\n",
       "            background-color:  #e2dad5;\n",
       "            color:  #000000;\n",
       "        }    #T_48eb5c5e_cbe0_11e9_8868_c85b76dfbccarow0_col2 {\n",
       "            background-color:  #f2c9b4;\n",
       "            color:  #000000;\n",
       "        }    #T_48eb5c5e_cbe0_11e9_8868_c85b76dfbccarow0_col3 {\n",
       "            background-color:  #f6bfa6;\n",
       "            color:  #000000;\n",
       "        }    #T_48eb5c5e_cbe0_11e9_8868_c85b76dfbccarow0_col4 {\n",
       "            background-color:  #c9d7f0;\n",
       "            color:  #000000;\n",
       "        }    #T_48eb5c5e_cbe0_11e9_8868_c85b76dfbccarow0_col5 {\n",
       "            background-color:  #3b4cc0;\n",
       "            color:  #f1f1f1;\n",
       "        }    #T_48eb5c5e_cbe0_11e9_8868_c85b76dfbccarow0_col6 {\n",
       "            background-color:  #3b4cc0;\n",
       "            color:  #f1f1f1;\n",
       "        }    #T_48eb5c5e_cbe0_11e9_8868_c85b76dfbccarow0_col7 {\n",
       "            background-color:  #f7ba9f;\n",
       "            color:  #000000;\n",
       "        }    #T_48eb5c5e_cbe0_11e9_8868_c85b76dfbccarow0_col8 {\n",
       "            background-color:  #5b7ae5;\n",
       "            color:  #000000;\n",
       "        }    #T_48eb5c5e_cbe0_11e9_8868_c85b76dfbccarow0_col9 {\n",
       "            background-color:  #9abbff;\n",
       "            color:  #000000;\n",
       "        }    #T_48eb5c5e_cbe0_11e9_8868_c85b76dfbccarow1_col0 {\n",
       "            background-color:  #f4c5ad;\n",
       "            color:  #000000;\n",
       "        }    #T_48eb5c5e_cbe0_11e9_8868_c85b76dfbccarow1_col1 {\n",
       "            background-color:  #b40426;\n",
       "            color:  #f1f1f1;\n",
       "        }    #T_48eb5c5e_cbe0_11e9_8868_c85b76dfbccarow1_col2 {\n",
       "            background-color:  #6c8ff1;\n",
       "            color:  #000000;\n",
       "        }    #T_48eb5c5e_cbe0_11e9_8868_c85b76dfbccarow1_col3 {\n",
       "            background-color:  #f7a688;\n",
       "            color:  #000000;\n",
       "        }    #T_48eb5c5e_cbe0_11e9_8868_c85b76dfbccarow1_col4 {\n",
       "            background-color:  #7da0f9;\n",
       "            color:  #000000;\n",
       "        }    #T_48eb5c5e_cbe0_11e9_8868_c85b76dfbccarow1_col5 {\n",
       "            background-color:  #dcdddd;\n",
       "            color:  #000000;\n",
       "        }    #T_48eb5c5e_cbe0_11e9_8868_c85b76dfbccarow1_col6 {\n",
       "            background-color:  #80a3fa;\n",
       "            color:  #000000;\n",
       "        }    #T_48eb5c5e_cbe0_11e9_8868_c85b76dfbccarow1_col7 {\n",
       "            background-color:  #f39475;\n",
       "            color:  #000000;\n",
       "        }    #T_48eb5c5e_cbe0_11e9_8868_c85b76dfbccarow1_col8 {\n",
       "            background-color:  #e6d7cf;\n",
       "            color:  #000000;\n",
       "        }    #T_48eb5c5e_cbe0_11e9_8868_c85b76dfbccarow1_col9 {\n",
       "            background-color:  #c5d6f2;\n",
       "            color:  #000000;\n",
       "        }    #T_48eb5c5e_cbe0_11e9_8868_c85b76dfbccarow2_col0 {\n",
       "            background-color:  #f7bca1;\n",
       "            color:  #000000;\n",
       "        }    #T_48eb5c5e_cbe0_11e9_8868_c85b76dfbccarow2_col1 {\n",
       "            background-color:  #4b64d5;\n",
       "            color:  #f1f1f1;\n",
       "        }    #T_48eb5c5e_cbe0_11e9_8868_c85b76dfbccarow2_col2 {\n",
       "            background-color:  #b40426;\n",
       "            color:  #f1f1f1;\n",
       "        }    #T_48eb5c5e_cbe0_11e9_8868_c85b76dfbccarow2_col3 {\n",
       "            background-color:  #3b4cc0;\n",
       "            color:  #f1f1f1;\n",
       "        }    #T_48eb5c5e_cbe0_11e9_8868_c85b76dfbccarow2_col4 {\n",
       "            background-color:  #d6dce4;\n",
       "            color:  #000000;\n",
       "        }    #T_48eb5c5e_cbe0_11e9_8868_c85b76dfbccarow2_col5 {\n",
       "            background-color:  #516ddb;\n",
       "            color:  #000000;\n",
       "        }    #T_48eb5c5e_cbe0_11e9_8868_c85b76dfbccarow2_col6 {\n",
       "            background-color:  #b6cefa;\n",
       "            color:  #000000;\n",
       "        }    #T_48eb5c5e_cbe0_11e9_8868_c85b76dfbccarow2_col7 {\n",
       "            background-color:  #b1cbfc;\n",
       "            color:  #000000;\n",
       "        }    #T_48eb5c5e_cbe0_11e9_8868_c85b76dfbccarow2_col8 {\n",
       "            background-color:  #5d7ce6;\n",
       "            color:  #000000;\n",
       "        }    #T_48eb5c5e_cbe0_11e9_8868_c85b76dfbccarow2_col9 {\n",
       "            background-color:  #3b4cc0;\n",
       "            color:  #f1f1f1;\n",
       "        }    #T_48eb5c5e_cbe0_11e9_8868_c85b76dfbccarow3_col0 {\n",
       "            background-color:  #f7b194;\n",
       "            color:  #000000;\n",
       "        }    #T_48eb5c5e_cbe0_11e9_8868_c85b76dfbccarow3_col1 {\n",
       "            background-color:  #f7b194;\n",
       "            color:  #000000;\n",
       "        }    #T_48eb5c5e_cbe0_11e9_8868_c85b76dfbccarow3_col2 {\n",
       "            background-color:  #3b4cc0;\n",
       "            color:  #f1f1f1;\n",
       "        }    #T_48eb5c5e_cbe0_11e9_8868_c85b76dfbccarow3_col3 {\n",
       "            background-color:  #b40426;\n",
       "            color:  #f1f1f1;\n",
       "        }    #T_48eb5c5e_cbe0_11e9_8868_c85b76dfbccarow3_col4 {\n",
       "            background-color:  #89acfd;\n",
       "            color:  #000000;\n",
       "        }    #T_48eb5c5e_cbe0_11e9_8868_c85b76dfbccarow3_col5 {\n",
       "            background-color:  #3c4ec2;\n",
       "            color:  #f1f1f1;\n",
       "        }    #T_48eb5c5e_cbe0_11e9_8868_c85b76dfbccarow3_col6 {\n",
       "            background-color:  #6788ee;\n",
       "            color:  #000000;\n",
       "        }    #T_48eb5c5e_cbe0_11e9_8868_c85b76dfbccarow3_col7 {\n",
       "            background-color:  #f7bca1;\n",
       "            color:  #000000;\n",
       "        }    #T_48eb5c5e_cbe0_11e9_8868_c85b76dfbccarow3_col8 {\n",
       "            background-color:  #ead5c9;\n",
       "            color:  #000000;\n",
       "        }    #T_48eb5c5e_cbe0_11e9_8868_c85b76dfbccarow3_col9 {\n",
       "            background-color:  #f2cbb7;\n",
       "            color:  #000000;\n",
       "        }    #T_48eb5c5e_cbe0_11e9_8868_c85b76dfbccarow4_col0 {\n",
       "            background-color:  #d3dbe7;\n",
       "            color:  #000000;\n",
       "        }    #T_48eb5c5e_cbe0_11e9_8868_c85b76dfbccarow4_col1 {\n",
       "            background-color:  #4b64d5;\n",
       "            color:  #f1f1f1;\n",
       "        }    #T_48eb5c5e_cbe0_11e9_8868_c85b76dfbccarow4_col2 {\n",
       "            background-color:  #cdd9ec;\n",
       "            color:  #000000;\n",
       "        }    #T_48eb5c5e_cbe0_11e9_8868_c85b76dfbccarow4_col3 {\n",
       "            background-color:  #7a9df8;\n",
       "            color:  #000000;\n",
       "        }    #T_48eb5c5e_cbe0_11e9_8868_c85b76dfbccarow4_col4 {\n",
       "            background-color:  #b40426;\n",
       "            color:  #f1f1f1;\n",
       "        }    #T_48eb5c5e_cbe0_11e9_8868_c85b76dfbccarow4_col5 {\n",
       "            background-color:  #5a78e4;\n",
       "            color:  #000000;\n",
       "        }    #T_48eb5c5e_cbe0_11e9_8868_c85b76dfbccarow4_col6 {\n",
       "            background-color:  #abc8fd;\n",
       "            color:  #000000;\n",
       "        }    #T_48eb5c5e_cbe0_11e9_8868_c85b76dfbccarow4_col7 {\n",
       "            background-color:  #3b4cc0;\n",
       "            color:  #f1f1f1;\n",
       "        }    #T_48eb5c5e_cbe0_11e9_8868_c85b76dfbccarow4_col8 {\n",
       "            background-color:  #3b4cc0;\n",
       "            color:  #f1f1f1;\n",
       "        }    #T_48eb5c5e_cbe0_11e9_8868_c85b76dfbccarow4_col9 {\n",
       "            background-color:  #6687ed;\n",
       "            color:  #000000;\n",
       "        }    #T_48eb5c5e_cbe0_11e9_8868_c85b76dfbccarow5_col0 {\n",
       "            background-color:  #9abbff;\n",
       "            color:  #000000;\n",
       "        }    #T_48eb5c5e_cbe0_11e9_8868_c85b76dfbccarow5_col1 {\n",
       "            background-color:  #e9d5cb;\n",
       "            color:  #000000;\n",
       "        }    #T_48eb5c5e_cbe0_11e9_8868_c85b76dfbccarow5_col2 {\n",
       "            background-color:  #8db0fe;\n",
       "            color:  #000000;\n",
       "        }    #T_48eb5c5e_cbe0_11e9_8868_c85b76dfbccarow5_col3 {\n",
       "            background-color:  #799cf8;\n",
       "            color:  #000000;\n",
       "        }    #T_48eb5c5e_cbe0_11e9_8868_c85b76dfbccarow5_col4 {\n",
       "            background-color:  #a3c2fe;\n",
       "            color:  #000000;\n",
       "        }    #T_48eb5c5e_cbe0_11e9_8868_c85b76dfbccarow5_col5 {\n",
       "            background-color:  #b40426;\n",
       "            color:  #f1f1f1;\n",
       "        }    #T_48eb5c5e_cbe0_11e9_8868_c85b76dfbccarow5_col6 {\n",
       "            background-color:  #c1d4f4;\n",
       "            color:  #000000;\n",
       "        }    #T_48eb5c5e_cbe0_11e9_8868_c85b76dfbccarow5_col7 {\n",
       "            background-color:  #f4c6af;\n",
       "            color:  #000000;\n",
       "        }    #T_48eb5c5e_cbe0_11e9_8868_c85b76dfbccarow5_col8 {\n",
       "            background-color:  #dfdbd9;\n",
       "            color:  #000000;\n",
       "        }    #T_48eb5c5e_cbe0_11e9_8868_c85b76dfbccarow5_col9 {\n",
       "            background-color:  #aec9fc;\n",
       "            color:  #000000;\n",
       "        }    #T_48eb5c5e_cbe0_11e9_8868_c85b76dfbccarow6_col0 {\n",
       "            background-color:  #3b4cc0;\n",
       "            color:  #f1f1f1;\n",
       "        }    #T_48eb5c5e_cbe0_11e9_8868_c85b76dfbccarow6_col1 {\n",
       "            background-color:  #3b4cc0;\n",
       "            color:  #f1f1f1;\n",
       "        }    #T_48eb5c5e_cbe0_11e9_8868_c85b76dfbccarow6_col2 {\n",
       "            background-color:  #98b9ff;\n",
       "            color:  #000000;\n",
       "        }    #T_48eb5c5e_cbe0_11e9_8868_c85b76dfbccarow6_col3 {\n",
       "            background-color:  #4358cb;\n",
       "            color:  #f1f1f1;\n",
       "        }    #T_48eb5c5e_cbe0_11e9_8868_c85b76dfbccarow6_col4 {\n",
       "            background-color:  #9bbcff;\n",
       "            color:  #000000;\n",
       "        }    #T_48eb5c5e_cbe0_11e9_8868_c85b76dfbccarow6_col5 {\n",
       "            background-color:  #6f92f3;\n",
       "            color:  #000000;\n",
       "        }    #T_48eb5c5e_cbe0_11e9_8868_c85b76dfbccarow6_col6 {\n",
       "            background-color:  #b40426;\n",
       "            color:  #f1f1f1;\n",
       "        }    #T_48eb5c5e_cbe0_11e9_8868_c85b76dfbccarow6_col7 {\n",
       "            background-color:  #3f53c6;\n",
       "            color:  #f1f1f1;\n",
       "        }    #T_48eb5c5e_cbe0_11e9_8868_c85b76dfbccarow6_col8 {\n",
       "            background-color:  #f3c7b1;\n",
       "            color:  #000000;\n",
       "        }    #T_48eb5c5e_cbe0_11e9_8868_c85b76dfbccarow6_col9 {\n",
       "            background-color:  #4055c8;\n",
       "            color:  #f1f1f1;\n",
       "        }    #T_48eb5c5e_cbe0_11e9_8868_c85b76dfbccarow7_col0 {\n",
       "            background-color:  #f7ad90;\n",
       "            color:  #000000;\n",
       "        }    #T_48eb5c5e_cbe0_11e9_8868_c85b76dfbccarow7_col1 {\n",
       "            background-color:  #f59f80;\n",
       "            color:  #000000;\n",
       "        }    #T_48eb5c5e_cbe0_11e9_8868_c85b76dfbccarow7_col2 {\n",
       "            background-color:  #b1cbfc;\n",
       "            color:  #000000;\n",
       "        }    #T_48eb5c5e_cbe0_11e9_8868_c85b76dfbccarow7_col3 {\n",
       "            background-color:  #f7bca1;\n",
       "            color:  #000000;\n",
       "        }    #T_48eb5c5e_cbe0_11e9_8868_c85b76dfbccarow7_col4 {\n",
       "            background-color:  #4b64d5;\n",
       "            color:  #f1f1f1;\n",
       "        }    #T_48eb5c5e_cbe0_11e9_8868_c85b76dfbccarow7_col5 {\n",
       "            background-color:  #e4d9d2;\n",
       "            color:  #000000;\n",
       "        }    #T_48eb5c5e_cbe0_11e9_8868_c85b76dfbccarow7_col6 {\n",
       "            background-color:  #6687ed;\n",
       "            color:  #000000;\n",
       "        }    #T_48eb5c5e_cbe0_11e9_8868_c85b76dfbccarow7_col7 {\n",
       "            background-color:  #b40426;\n",
       "            color:  #f1f1f1;\n",
       "        }    #T_48eb5c5e_cbe0_11e9_8868_c85b76dfbccarow7_col8 {\n",
       "            background-color:  #f3c7b1;\n",
       "            color:  #000000;\n",
       "        }    #T_48eb5c5e_cbe0_11e9_8868_c85b76dfbccarow7_col9 {\n",
       "            background-color:  #efcfbf;\n",
       "            color:  #000000;\n",
       "        }    #T_48eb5c5e_cbe0_11e9_8868_c85b76dfbccarow8_col0 {\n",
       "            background-color:  #6f92f3;\n",
       "            color:  #000000;\n",
       "        }    #T_48eb5c5e_cbe0_11e9_8868_c85b76dfbccarow8_col1 {\n",
       "            background-color:  #cfdaea;\n",
       "            color:  #000000;\n",
       "        }    #T_48eb5c5e_cbe0_11e9_8868_c85b76dfbccarow8_col2 {\n",
       "            background-color:  #4c66d6;\n",
       "            color:  #000000;\n",
       "        }    #T_48eb5c5e_cbe0_11e9_8868_c85b76dfbccarow8_col3 {\n",
       "            background-color:  #e3d9d3;\n",
       "            color:  #000000;\n",
       "        }    #T_48eb5c5e_cbe0_11e9_8868_c85b76dfbccarow8_col4 {\n",
       "            background-color:  #3b4cc0;\n",
       "            color:  #f1f1f1;\n",
       "        }    #T_48eb5c5e_cbe0_11e9_8868_c85b76dfbccarow8_col5 {\n",
       "            background-color:  #b2ccfb;\n",
       "            color:  #000000;\n",
       "        }    #T_48eb5c5e_cbe0_11e9_8868_c85b76dfbccarow8_col6 {\n",
       "            background-color:  #f6bfa6;\n",
       "            color:  #000000;\n",
       "        }    #T_48eb5c5e_cbe0_11e9_8868_c85b76dfbccarow8_col7 {\n",
       "            background-color:  #f1cdba;\n",
       "            color:  #000000;\n",
       "        }    #T_48eb5c5e_cbe0_11e9_8868_c85b76dfbccarow8_col8 {\n",
       "            background-color:  #b40426;\n",
       "            color:  #f1f1f1;\n",
       "        }    #T_48eb5c5e_cbe0_11e9_8868_c85b76dfbccarow8_col9 {\n",
       "            background-color:  #bbd1f8;\n",
       "            color:  #000000;\n",
       "        }    #T_48eb5c5e_cbe0_11e9_8868_c85b76dfbccarow9_col0 {\n",
       "            background-color:  #cad8ef;\n",
       "            color:  #000000;\n",
       "        }    #T_48eb5c5e_cbe0_11e9_8868_c85b76dfbccarow9_col1 {\n",
       "            background-color:  #c1d4f4;\n",
       "            color:  #000000;\n",
       "        }    #T_48eb5c5e_cbe0_11e9_8868_c85b76dfbccarow9_col2 {\n",
       "            background-color:  #5673e0;\n",
       "            color:  #000000;\n",
       "        }    #T_48eb5c5e_cbe0_11e9_8868_c85b76dfbccarow9_col3 {\n",
       "            background-color:  #f5c0a7;\n",
       "            color:  #000000;\n",
       "        }    #T_48eb5c5e_cbe0_11e9_8868_c85b76dfbccarow9_col4 {\n",
       "            background-color:  #92b4fe;\n",
       "            color:  #000000;\n",
       "        }    #T_48eb5c5e_cbe0_11e9_8868_c85b76dfbccarow9_col5 {\n",
       "            background-color:  #93b5fe;\n",
       "            color:  #000000;\n",
       "        }    #T_48eb5c5e_cbe0_11e9_8868_c85b76dfbccarow9_col6 {\n",
       "            background-color:  #81a4fb;\n",
       "            color:  #000000;\n",
       "        }    #T_48eb5c5e_cbe0_11e9_8868_c85b76dfbccarow9_col7 {\n",
       "            background-color:  #f4c6af;\n",
       "            color:  #000000;\n",
       "        }    #T_48eb5c5e_cbe0_11e9_8868_c85b76dfbccarow9_col8 {\n",
       "            background-color:  #d6dce4;\n",
       "            color:  #000000;\n",
       "        }    #T_48eb5c5e_cbe0_11e9_8868_c85b76dfbccarow9_col9 {\n",
       "            background-color:  #b40426;\n",
       "            color:  #f1f1f1;\n",
       "        }</style><table id=\"T_48eb5c5e_cbe0_11e9_8868_c85b76dfbcca\" ><thead>    <tr>        <th class=\"blank level0\" ></th>        <th class=\"col_heading level0 col0\" >0</th>        <th class=\"col_heading level0 col1\" >1</th>        <th class=\"col_heading level0 col2\" >2</th>        <th class=\"col_heading level0 col3\" >3</th>        <th class=\"col_heading level0 col4\" >4</th>        <th class=\"col_heading level0 col5\" >5</th>        <th class=\"col_heading level0 col6\" >6</th>        <th class=\"col_heading level0 col7\" >7</th>        <th class=\"col_heading level0 col8\" >8</th>        <th class=\"col_heading level0 col9\" >9</th>    </tr></thead><tbody>\n",
       "                <tr>\n",
       "                        <th id=\"T_48eb5c5e_cbe0_11e9_8868_c85b76dfbccalevel0_row0\" class=\"row_heading level0 row0\" >0</th>\n",
       "                        <td id=\"T_48eb5c5e_cbe0_11e9_8868_c85b76dfbccarow0_col0\" class=\"data row0 col0\" >1</td>\n",
       "                        <td id=\"T_48eb5c5e_cbe0_11e9_8868_c85b76dfbccarow0_col1\" class=\"data row0 col1\" >0.347533</td>\n",
       "                        <td id=\"T_48eb5c5e_cbe0_11e9_8868_c85b76dfbccarow0_col2\" class=\"data row0 col2\" >0.398948</td>\n",
       "                        <td id=\"T_48eb5c5e_cbe0_11e9_8868_c85b76dfbccarow0_col3\" class=\"data row0 col3\" >0.455743</td>\n",
       "                        <td id=\"T_48eb5c5e_cbe0_11e9_8868_c85b76dfbccarow0_col4\" class=\"data row0 col4\" >0.0729144</td>\n",
       "                        <td id=\"T_48eb5c5e_cbe0_11e9_8868_c85b76dfbccarow0_col5\" class=\"data row0 col5\" >-0.233402</td>\n",
       "                        <td id=\"T_48eb5c5e_cbe0_11e9_8868_c85b76dfbccarow0_col6\" class=\"data row0 col6\" >-0.731222</td>\n",
       "                        <td id=\"T_48eb5c5e_cbe0_11e9_8868_c85b76dfbccarow0_col7\" class=\"data row0 col7\" >0.477978</td>\n",
       "                        <td id=\"T_48eb5c5e_cbe0_11e9_8868_c85b76dfbccarow0_col8\" class=\"data row0 col8\" >-0.442621</td>\n",
       "                        <td id=\"T_48eb5c5e_cbe0_11e9_8868_c85b76dfbccarow0_col9\" class=\"data row0 col9\" >0.0151847</td>\n",
       "            </tr>\n",
       "            <tr>\n",
       "                        <th id=\"T_48eb5c5e_cbe0_11e9_8868_c85b76dfbccalevel0_row1\" class=\"row_heading level0 row1\" >1</th>\n",
       "                        <td id=\"T_48eb5c5e_cbe0_11e9_8868_c85b76dfbccarow1_col0\" class=\"data row1 col0\" >0.347533</td>\n",
       "                        <td id=\"T_48eb5c5e_cbe0_11e9_8868_c85b76dfbccarow1_col1\" class=\"data row1 col1\" >1</td>\n",
       "                        <td id=\"T_48eb5c5e_cbe0_11e9_8868_c85b76dfbccarow1_col2\" class=\"data row1 col2\" >-0.284056</td>\n",
       "                        <td id=\"T_48eb5c5e_cbe0_11e9_8868_c85b76dfbccarow1_col3\" class=\"data row1 col3\" >0.571003</td>\n",
       "                        <td id=\"T_48eb5c5e_cbe0_11e9_8868_c85b76dfbccarow1_col4\" class=\"data row1 col4\" >-0.285483</td>\n",
       "                        <td id=\"T_48eb5c5e_cbe0_11e9_8868_c85b76dfbccarow1_col5\" class=\"data row1 col5\" >0.38248</td>\n",
       "                        <td id=\"T_48eb5c5e_cbe0_11e9_8868_c85b76dfbccarow1_col6\" class=\"data row1 col6\" >-0.362842</td>\n",
       "                        <td id=\"T_48eb5c5e_cbe0_11e9_8868_c85b76dfbccarow1_col7\" class=\"data row1 col7\" >0.642578</td>\n",
       "                        <td id=\"T_48eb5c5e_cbe0_11e9_8868_c85b76dfbccarow1_col8\" class=\"data row1 col8\" >0.252556</td>\n",
       "                        <td id=\"T_48eb5c5e_cbe0_11e9_8868_c85b76dfbccarow1_col9\" class=\"data row1 col9\" >0.190047</td>\n",
       "            </tr>\n",
       "            <tr>\n",
       "                        <th id=\"T_48eb5c5e_cbe0_11e9_8868_c85b76dfbccalevel0_row2\" class=\"row_heading level0 row2\" >2</th>\n",
       "                        <td id=\"T_48eb5c5e_cbe0_11e9_8868_c85b76dfbccarow2_col0\" class=\"data row2 col0\" >0.398948</td>\n",
       "                        <td id=\"T_48eb5c5e_cbe0_11e9_8868_c85b76dfbccarow2_col1\" class=\"data row2 col1\" >-0.284056</td>\n",
       "                        <td id=\"T_48eb5c5e_cbe0_11e9_8868_c85b76dfbccarow2_col2\" class=\"data row2 col2\" >1</td>\n",
       "                        <td id=\"T_48eb5c5e_cbe0_11e9_8868_c85b76dfbccarow2_col3\" class=\"data row2 col3\" >-0.523649</td>\n",
       "                        <td id=\"T_48eb5c5e_cbe0_11e9_8868_c85b76dfbccarow2_col4\" class=\"data row2 col4\" >0.152937</td>\n",
       "                        <td id=\"T_48eb5c5e_cbe0_11e9_8868_c85b76dfbccarow2_col5\" class=\"data row2 col5\" >-0.139176</td>\n",
       "                        <td id=\"T_48eb5c5e_cbe0_11e9_8868_c85b76dfbccarow2_col6\" class=\"data row2 col6\" >-0.0928948</td>\n",
       "                        <td id=\"T_48eb5c5e_cbe0_11e9_8868_c85b76dfbccarow2_col7\" class=\"data row2 col7\" >0.0162655</td>\n",
       "                        <td id=\"T_48eb5c5e_cbe0_11e9_8868_c85b76dfbccarow2_col8\" class=\"data row2 col8\" >-0.434016</td>\n",
       "                        <td id=\"T_48eb5c5e_cbe0_11e9_8868_c85b76dfbccarow2_col9\" class=\"data row2 col9\" >-0.383585</td>\n",
       "            </tr>\n",
       "            <tr>\n",
       "                        <th id=\"T_48eb5c5e_cbe0_11e9_8868_c85b76dfbccalevel0_row3\" class=\"row_heading level0 row3\" >3</th>\n",
       "                        <td id=\"T_48eb5c5e_cbe0_11e9_8868_c85b76dfbccarow3_col0\" class=\"data row3 col0\" >0.455743</td>\n",
       "                        <td id=\"T_48eb5c5e_cbe0_11e9_8868_c85b76dfbccarow3_col1\" class=\"data row3 col1\" >0.571003</td>\n",
       "                        <td id=\"T_48eb5c5e_cbe0_11e9_8868_c85b76dfbccarow3_col2\" class=\"data row3 col2\" >-0.523649</td>\n",
       "                        <td id=\"T_48eb5c5e_cbe0_11e9_8868_c85b76dfbccarow3_col3\" class=\"data row3 col3\" >1</td>\n",
       "                        <td id=\"T_48eb5c5e_cbe0_11e9_8868_c85b76dfbccarow3_col4\" class=\"data row3 col4\" >-0.225343</td>\n",
       "                        <td id=\"T_48eb5c5e_cbe0_11e9_8868_c85b76dfbccarow3_col5\" class=\"data row3 col5\" >-0.227577</td>\n",
       "                        <td id=\"T_48eb5c5e_cbe0_11e9_8868_c85b76dfbccarow3_col6\" class=\"data row3 col6\" >-0.481548</td>\n",
       "                        <td id=\"T_48eb5c5e_cbe0_11e9_8868_c85b76dfbccarow3_col7\" class=\"data row3 col7\" >0.473286</td>\n",
       "                        <td id=\"T_48eb5c5e_cbe0_11e9_8868_c85b76dfbccarow3_col8\" class=\"data row3 col8\" >0.279258</td>\n",
       "                        <td id=\"T_48eb5c5e_cbe0_11e9_8868_c85b76dfbccarow3_col9\" class=\"data row3 col9\" >0.44665</td>\n",
       "            </tr>\n",
       "            <tr>\n",
       "                        <th id=\"T_48eb5c5e_cbe0_11e9_8868_c85b76dfbccalevel0_row4\" class=\"row_heading level0 row4\" >4</th>\n",
       "                        <td id=\"T_48eb5c5e_cbe0_11e9_8868_c85b76dfbccarow4_col0\" class=\"data row4 col0\" >0.0729144</td>\n",
       "                        <td id=\"T_48eb5c5e_cbe0_11e9_8868_c85b76dfbccarow4_col1\" class=\"data row4 col1\" >-0.285483</td>\n",
       "                        <td id=\"T_48eb5c5e_cbe0_11e9_8868_c85b76dfbccarow4_col2\" class=\"data row4 col2\" >0.152937</td>\n",
       "                        <td id=\"T_48eb5c5e_cbe0_11e9_8868_c85b76dfbccarow4_col3\" class=\"data row4 col3\" >-0.225343</td>\n",
       "                        <td id=\"T_48eb5c5e_cbe0_11e9_8868_c85b76dfbccarow4_col4\" class=\"data row4 col4\" >1</td>\n",
       "                        <td id=\"T_48eb5c5e_cbe0_11e9_8868_c85b76dfbccarow4_col5\" class=\"data row4 col5\" >-0.104438</td>\n",
       "                        <td id=\"T_48eb5c5e_cbe0_11e9_8868_c85b76dfbccarow4_col6\" class=\"data row4 col6\" >-0.147477</td>\n",
       "                        <td id=\"T_48eb5c5e_cbe0_11e9_8868_c85b76dfbccarow4_col7\" class=\"data row4 col7\" >-0.523283</td>\n",
       "                        <td id=\"T_48eb5c5e_cbe0_11e9_8868_c85b76dfbccarow4_col8\" class=\"data row4 col8\" >-0.614603</td>\n",
       "                        <td id=\"T_48eb5c5e_cbe0_11e9_8868_c85b76dfbccarow4_col9\" class=\"data row4 col9\" >-0.189916</td>\n",
       "            </tr>\n",
       "            <tr>\n",
       "                        <th id=\"T_48eb5c5e_cbe0_11e9_8868_c85b76dfbccalevel0_row5\" class=\"row_heading level0 row5\" >5</th>\n",
       "                        <td id=\"T_48eb5c5e_cbe0_11e9_8868_c85b76dfbccarow5_col0\" class=\"data row5 col0\" >-0.233402</td>\n",
       "                        <td id=\"T_48eb5c5e_cbe0_11e9_8868_c85b76dfbccarow5_col1\" class=\"data row5 col1\" >0.38248</td>\n",
       "                        <td id=\"T_48eb5c5e_cbe0_11e9_8868_c85b76dfbccarow5_col2\" class=\"data row5 col2\" >-0.139176</td>\n",
       "                        <td id=\"T_48eb5c5e_cbe0_11e9_8868_c85b76dfbccarow5_col3\" class=\"data row5 col3\" >-0.227577</td>\n",
       "                        <td id=\"T_48eb5c5e_cbe0_11e9_8868_c85b76dfbccarow5_col4\" class=\"data row5 col4\" >-0.104438</td>\n",
       "                        <td id=\"T_48eb5c5e_cbe0_11e9_8868_c85b76dfbccarow5_col5\" class=\"data row5 col5\" >1</td>\n",
       "                        <td id=\"T_48eb5c5e_cbe0_11e9_8868_c85b76dfbccarow5_col6\" class=\"data row5 col6\" >-0.0302517</td>\n",
       "                        <td id=\"T_48eb5c5e_cbe0_11e9_8868_c85b76dfbccarow5_col7\" class=\"data row5 col7\" >0.41764</td>\n",
       "                        <td id=\"T_48eb5c5e_cbe0_11e9_8868_c85b76dfbccarow5_col8\" class=\"data row5 col8\" >0.205851</td>\n",
       "                        <td id=\"T_48eb5c5e_cbe0_11e9_8868_c85b76dfbccarow5_col9\" class=\"data row5 col9\" >0.0950844</td>\n",
       "            </tr>\n",
       "            <tr>\n",
       "                        <th id=\"T_48eb5c5e_cbe0_11e9_8868_c85b76dfbccalevel0_row6\" class=\"row_heading level0 row6\" >6</th>\n",
       "                        <td id=\"T_48eb5c5e_cbe0_11e9_8868_c85b76dfbccarow6_col0\" class=\"data row6 col0\" >-0.731222</td>\n",
       "                        <td id=\"T_48eb5c5e_cbe0_11e9_8868_c85b76dfbccarow6_col1\" class=\"data row6 col1\" >-0.362842</td>\n",
       "                        <td id=\"T_48eb5c5e_cbe0_11e9_8868_c85b76dfbccarow6_col2\" class=\"data row6 col2\" >-0.0928948</td>\n",
       "                        <td id=\"T_48eb5c5e_cbe0_11e9_8868_c85b76dfbccarow6_col3\" class=\"data row6 col3\" >-0.481548</td>\n",
       "                        <td id=\"T_48eb5c5e_cbe0_11e9_8868_c85b76dfbccarow6_col4\" class=\"data row6 col4\" >-0.147477</td>\n",
       "                        <td id=\"T_48eb5c5e_cbe0_11e9_8868_c85b76dfbccarow6_col5\" class=\"data row6 col5\" >-0.0302517</td>\n",
       "                        <td id=\"T_48eb5c5e_cbe0_11e9_8868_c85b76dfbccarow6_col6\" class=\"data row6 col6\" >1</td>\n",
       "                        <td id=\"T_48eb5c5e_cbe0_11e9_8868_c85b76dfbccarow6_col7\" class=\"data row6 col7\" >-0.49444</td>\n",
       "                        <td id=\"T_48eb5c5e_cbe0_11e9_8868_c85b76dfbccarow6_col8\" class=\"data row6 col8\" >0.381407</td>\n",
       "                        <td id=\"T_48eb5c5e_cbe0_11e9_8868_c85b76dfbccarow6_col9\" class=\"data row6 col9\" >-0.353652</td>\n",
       "            </tr>\n",
       "            <tr>\n",
       "                        <th id=\"T_48eb5c5e_cbe0_11e9_8868_c85b76dfbccalevel0_row7\" class=\"row_heading level0 row7\" >7</th>\n",
       "                        <td id=\"T_48eb5c5e_cbe0_11e9_8868_c85b76dfbccarow7_col0\" class=\"data row7 col0\" >0.477978</td>\n",
       "                        <td id=\"T_48eb5c5e_cbe0_11e9_8868_c85b76dfbccarow7_col1\" class=\"data row7 col1\" >0.642578</td>\n",
       "                        <td id=\"T_48eb5c5e_cbe0_11e9_8868_c85b76dfbccarow7_col2\" class=\"data row7 col2\" >0.0162655</td>\n",
       "                        <td id=\"T_48eb5c5e_cbe0_11e9_8868_c85b76dfbccarow7_col3\" class=\"data row7 col3\" >0.473286</td>\n",
       "                        <td id=\"T_48eb5c5e_cbe0_11e9_8868_c85b76dfbccarow7_col4\" class=\"data row7 col4\" >-0.523283</td>\n",
       "                        <td id=\"T_48eb5c5e_cbe0_11e9_8868_c85b76dfbccarow7_col5\" class=\"data row7 col5\" >0.41764</td>\n",
       "                        <td id=\"T_48eb5c5e_cbe0_11e9_8868_c85b76dfbccarow7_col6\" class=\"data row7 col6\" >-0.49444</td>\n",
       "                        <td id=\"T_48eb5c5e_cbe0_11e9_8868_c85b76dfbccarow7_col7\" class=\"data row7 col7\" >1</td>\n",
       "                        <td id=\"T_48eb5c5e_cbe0_11e9_8868_c85b76dfbccarow7_col8\" class=\"data row7 col8\" >0.375873</td>\n",
       "                        <td id=\"T_48eb5c5e_cbe0_11e9_8868_c85b76dfbccarow7_col9\" class=\"data row7 col9\" >0.417863</td>\n",
       "            </tr>\n",
       "            <tr>\n",
       "                        <th id=\"T_48eb5c5e_cbe0_11e9_8868_c85b76dfbccalevel0_row8\" class=\"row_heading level0 row8\" >8</th>\n",
       "                        <td id=\"T_48eb5c5e_cbe0_11e9_8868_c85b76dfbccarow8_col0\" class=\"data row8 col0\" >-0.442621</td>\n",
       "                        <td id=\"T_48eb5c5e_cbe0_11e9_8868_c85b76dfbccarow8_col1\" class=\"data row8 col1\" >0.252556</td>\n",
       "                        <td id=\"T_48eb5c5e_cbe0_11e9_8868_c85b76dfbccarow8_col2\" class=\"data row8 col2\" >-0.434016</td>\n",
       "                        <td id=\"T_48eb5c5e_cbe0_11e9_8868_c85b76dfbccarow8_col3\" class=\"data row8 col3\" >0.279258</td>\n",
       "                        <td id=\"T_48eb5c5e_cbe0_11e9_8868_c85b76dfbccarow8_col4\" class=\"data row8 col4\" >-0.614603</td>\n",
       "                        <td id=\"T_48eb5c5e_cbe0_11e9_8868_c85b76dfbccarow8_col5\" class=\"data row8 col5\" >0.205851</td>\n",
       "                        <td id=\"T_48eb5c5e_cbe0_11e9_8868_c85b76dfbccarow8_col6\" class=\"data row8 col6\" >0.381407</td>\n",
       "                        <td id=\"T_48eb5c5e_cbe0_11e9_8868_c85b76dfbccarow8_col7\" class=\"data row8 col7\" >0.375873</td>\n",
       "                        <td id=\"T_48eb5c5e_cbe0_11e9_8868_c85b76dfbccarow8_col8\" class=\"data row8 col8\" >1</td>\n",
       "                        <td id=\"T_48eb5c5e_cbe0_11e9_8868_c85b76dfbccarow8_col9\" class=\"data row8 col9\" >0.150421</td>\n",
       "            </tr>\n",
       "            <tr>\n",
       "                        <th id=\"T_48eb5c5e_cbe0_11e9_8868_c85b76dfbccalevel0_row9\" class=\"row_heading level0 row9\" >9</th>\n",
       "                        <td id=\"T_48eb5c5e_cbe0_11e9_8868_c85b76dfbccarow9_col0\" class=\"data row9 col0\" >0.0151847</td>\n",
       "                        <td id=\"T_48eb5c5e_cbe0_11e9_8868_c85b76dfbccarow9_col1\" class=\"data row9 col1\" >0.190047</td>\n",
       "                        <td id=\"T_48eb5c5e_cbe0_11e9_8868_c85b76dfbccarow9_col2\" class=\"data row9 col2\" >-0.383585</td>\n",
       "                        <td id=\"T_48eb5c5e_cbe0_11e9_8868_c85b76dfbccarow9_col3\" class=\"data row9 col3\" >0.44665</td>\n",
       "                        <td id=\"T_48eb5c5e_cbe0_11e9_8868_c85b76dfbccarow9_col4\" class=\"data row9 col4\" >-0.189916</td>\n",
       "                        <td id=\"T_48eb5c5e_cbe0_11e9_8868_c85b76dfbccarow9_col5\" class=\"data row9 col5\" >0.0950844</td>\n",
       "                        <td id=\"T_48eb5c5e_cbe0_11e9_8868_c85b76dfbccarow9_col6\" class=\"data row9 col6\" >-0.353652</td>\n",
       "                        <td id=\"T_48eb5c5e_cbe0_11e9_8868_c85b76dfbccarow9_col7\" class=\"data row9 col7\" >0.417863</td>\n",
       "                        <td id=\"T_48eb5c5e_cbe0_11e9_8868_c85b76dfbccarow9_col8\" class=\"data row9 col8\" >0.150421</td>\n",
       "                        <td id=\"T_48eb5c5e_cbe0_11e9_8868_c85b76dfbccarow9_col9\" class=\"data row9 col9\" >1</td>\n",
       "            </tr>\n",
       "    </tbody></table>"
      ],
      "text/plain": [
       "<pandas.io.formats.style.Styler at 0x20ee2ff3748>"
      ]
     },
     "execution_count": 32,
     "metadata": {},
     "output_type": "execute_result"
    }
   ],
   "source": [
    "rs = np.random.RandomState(0)\n",
    "df = pd.DataFrame(rs.rand(10,10))\n",
    "corr = df.corr()\n",
    "corr.style.background_gradient(cmap='coolwarm')"
   ]
  },
  {
   "cell_type": "markdown",
   "metadata": {},
   "source": [
    "# Titanic Veriseti"
   ]
  },
  {
   "cell_type": "code",
   "execution_count": 43,
   "metadata": {},
   "outputs": [],
   "source": [
    "import os\n",
    "os.chdir(r\"C:\\Users\\neutr\\Desktop\\kodluyoruz bootcamp\") #verisetini nereye indirdiyeseniz adresi giriniz"
   ]
  },
  {
   "cell_type": "code",
   "execution_count": 54,
   "metadata": {},
   "outputs": [],
   "source": [
    "titanic=pd.read_csv('titanic_train.csv')\n",
    "#data=pd.read_csv('https://raw.githubusercontent.com/caglarmert/UVBMOB/master/titanic_train.csv') # veriseti yoksa internetten çekmek için\n"
   ]
  },
  {
   "cell_type": "code",
   "execution_count": 58,
   "metadata": {},
   "outputs": [
    {
     "data": {
      "text/html": [
       "<div>\n",
       "<style scoped>\n",
       "    .dataframe tbody tr th:only-of-type {\n",
       "        vertical-align: middle;\n",
       "    }\n",
       "\n",
       "    .dataframe tbody tr th {\n",
       "        vertical-align: top;\n",
       "    }\n",
       "\n",
       "    .dataframe thead th {\n",
       "        text-align: right;\n",
       "    }\n",
       "</style>\n",
       "<table border=\"1\" class=\"dataframe\">\n",
       "  <thead>\n",
       "    <tr style=\"text-align: right;\">\n",
       "      <th></th>\n",
       "      <th>PassengerId</th>\n",
       "      <th>Survived</th>\n",
       "      <th>Pclass</th>\n",
       "      <th>Name</th>\n",
       "      <th>Sex</th>\n",
       "      <th>Age</th>\n",
       "      <th>SibSp</th>\n",
       "      <th>Parch</th>\n",
       "      <th>Ticket</th>\n",
       "      <th>Fare</th>\n",
       "      <th>Cabin</th>\n",
       "      <th>Embarked</th>\n",
       "    </tr>\n",
       "  </thead>\n",
       "  <tbody>\n",
       "    <tr>\n",
       "      <th>0</th>\n",
       "      <td>1</td>\n",
       "      <td>0</td>\n",
       "      <td>3</td>\n",
       "      <td>Braund, Mr. Owen Harris</td>\n",
       "      <td>male</td>\n",
       "      <td>22.0</td>\n",
       "      <td>1</td>\n",
       "      <td>0</td>\n",
       "      <td>A/5 21171</td>\n",
       "      <td>7.2500</td>\n",
       "      <td>NaN</td>\n",
       "      <td>S</td>\n",
       "    </tr>\n",
       "    <tr>\n",
       "      <th>1</th>\n",
       "      <td>2</td>\n",
       "      <td>1</td>\n",
       "      <td>1</td>\n",
       "      <td>Cumings, Mrs. John Bradley (Florence Briggs Th...</td>\n",
       "      <td>female</td>\n",
       "      <td>38.0</td>\n",
       "      <td>1</td>\n",
       "      <td>0</td>\n",
       "      <td>PC 17599</td>\n",
       "      <td>71.2833</td>\n",
       "      <td>C85</td>\n",
       "      <td>C</td>\n",
       "    </tr>\n",
       "    <tr>\n",
       "      <th>2</th>\n",
       "      <td>3</td>\n",
       "      <td>1</td>\n",
       "      <td>3</td>\n",
       "      <td>Heikkinen, Miss. Laina</td>\n",
       "      <td>female</td>\n",
       "      <td>26.0</td>\n",
       "      <td>0</td>\n",
       "      <td>0</td>\n",
       "      <td>STON/O2. 3101282</td>\n",
       "      <td>7.9250</td>\n",
       "      <td>NaN</td>\n",
       "      <td>S</td>\n",
       "    </tr>\n",
       "    <tr>\n",
       "      <th>3</th>\n",
       "      <td>4</td>\n",
       "      <td>1</td>\n",
       "      <td>1</td>\n",
       "      <td>Futrelle, Mrs. Jacques Heath (Lily May Peel)</td>\n",
       "      <td>female</td>\n",
       "      <td>35.0</td>\n",
       "      <td>1</td>\n",
       "      <td>0</td>\n",
       "      <td>113803</td>\n",
       "      <td>53.1000</td>\n",
       "      <td>C123</td>\n",
       "      <td>S</td>\n",
       "    </tr>\n",
       "    <tr>\n",
       "      <th>4</th>\n",
       "      <td>5</td>\n",
       "      <td>0</td>\n",
       "      <td>3</td>\n",
       "      <td>Allen, Mr. William Henry</td>\n",
       "      <td>male</td>\n",
       "      <td>35.0</td>\n",
       "      <td>0</td>\n",
       "      <td>0</td>\n",
       "      <td>373450</td>\n",
       "      <td>8.0500</td>\n",
       "      <td>NaN</td>\n",
       "      <td>S</td>\n",
       "    </tr>\n",
       "  </tbody>\n",
       "</table>\n",
       "</div>"
      ],
      "text/plain": [
       "   PassengerId  Survived  Pclass  \\\n",
       "0            1         0       3   \n",
       "1            2         1       1   \n",
       "2            3         1       3   \n",
       "3            4         1       1   \n",
       "4            5         0       3   \n",
       "\n",
       "                                                Name     Sex   Age  SibSp  \\\n",
       "0                            Braund, Mr. Owen Harris    male  22.0      1   \n",
       "1  Cumings, Mrs. John Bradley (Florence Briggs Th...  female  38.0      1   \n",
       "2                             Heikkinen, Miss. Laina  female  26.0      0   \n",
       "3       Futrelle, Mrs. Jacques Heath (Lily May Peel)  female  35.0      1   \n",
       "4                           Allen, Mr. William Henry    male  35.0      0   \n",
       "\n",
       "   Parch            Ticket     Fare Cabin Embarked  \n",
       "0      0         A/5 21171   7.2500   NaN        S  \n",
       "1      0          PC 17599  71.2833   C85        C  \n",
       "2      0  STON/O2. 3101282   7.9250   NaN        S  \n",
       "3      0            113803  53.1000  C123        S  \n",
       "4      0            373450   8.0500   NaN        S  "
      ]
     },
     "execution_count": 58,
     "metadata": {},
     "output_type": "execute_result"
    }
   ],
   "source": [
    "titanic.head()"
   ]
  },
  {
   "cell_type": "code",
   "execution_count": 65,
   "metadata": {},
   "outputs": [
    {
     "data": {
      "text/html": [
       "<div>\n",
       "<style scoped>\n",
       "    .dataframe tbody tr th:only-of-type {\n",
       "        vertical-align: middle;\n",
       "    }\n",
       "\n",
       "    .dataframe tbody tr th {\n",
       "        vertical-align: top;\n",
       "    }\n",
       "\n",
       "    .dataframe thead th {\n",
       "        text-align: right;\n",
       "    }\n",
       "</style>\n",
       "<table border=\"1\" class=\"dataframe\">\n",
       "  <thead>\n",
       "    <tr style=\"text-align: right;\">\n",
       "      <th>Sex</th>\n",
       "      <th>female</th>\n",
       "      <th>male</th>\n",
       "    </tr>\n",
       "  </thead>\n",
       "  <tbody>\n",
       "    <tr>\n",
       "      <th>died</th>\n",
       "      <td>81</td>\n",
       "      <td>468</td>\n",
       "    </tr>\n",
       "    <tr>\n",
       "      <th>survived</th>\n",
       "      <td>233</td>\n",
       "      <td>109</td>\n",
       "    </tr>\n",
       "  </tbody>\n",
       "</table>\n",
       "</div>"
      ],
      "text/plain": [
       "Sex       female  male\n",
       "died          81   468\n",
       "survived     233   109"
      ]
     },
     "execution_count": 65,
     "metadata": {},
     "output_type": "execute_result"
    }
   ],
   "source": [
    "survived_gender=pd.crosstab(index=titanic['Survived'],columns=titanic['Sex'])\n",
    "survived_gender.index = [\"died\",\"survived\"]\n",
    "survived_gender"
   ]
  },
  {
   "cell_type": "code",
   "execution_count": 62,
   "metadata": {},
   "outputs": [
    {
     "data": {
      "text/html": [
       "<div>\n",
       "<style scoped>\n",
       "    .dataframe tbody tr th:only-of-type {\n",
       "        vertical-align: middle;\n",
       "    }\n",
       "\n",
       "    .dataframe tbody tr th {\n",
       "        vertical-align: top;\n",
       "    }\n",
       "\n",
       "    .dataframe thead th {\n",
       "        text-align: right;\n",
       "    }\n",
       "</style>\n",
       "<table border=\"1\" class=\"dataframe\">\n",
       "  <thead>\n",
       "    <tr style=\"text-align: right;\">\n",
       "      <th>Pclass</th>\n",
       "      <th>1</th>\n",
       "      <th>2</th>\n",
       "      <th>3</th>\n",
       "    </tr>\n",
       "  </thead>\n",
       "  <tbody>\n",
       "    <tr>\n",
       "      <th>died</th>\n",
       "      <td>80</td>\n",
       "      <td>97</td>\n",
       "      <td>372</td>\n",
       "    </tr>\n",
       "    <tr>\n",
       "      <th>survived</th>\n",
       "      <td>136</td>\n",
       "      <td>87</td>\n",
       "      <td>119</td>\n",
       "    </tr>\n",
       "  </tbody>\n",
       "</table>\n",
       "</div>"
      ],
      "text/plain": [
       "Pclass      1   2    3\n",
       "died       80  97  372\n",
       "survived  136  87  119"
      ]
     },
     "execution_count": 62,
     "metadata": {},
     "output_type": "execute_result"
    }
   ],
   "source": [
    "survived_class=pd.crosstab(index=titanic['Survived'],columns=titanic['Pclass'])\n",
    "survived_class.index = [\"died\",\"survived\"]\n",
    "survived_class"
   ]
  },
  {
   "cell_type": "code",
   "execution_count": 67,
   "metadata": {},
   "outputs": [],
   "source": [
    "char_cabin = titanic[\"Cabin\"].astype(str)"
   ]
  },
  {
   "cell_type": "code",
   "execution_count": 69,
   "metadata": {},
   "outputs": [],
   "source": [
    "new_Cabin = np.array([cabin[0] for cabin in char_cabin])\n",
    "titanic[\"Cabin\"] = pd.Categorical(new_Cabin)"
   ]
  },
  {
   "cell_type": "code",
   "execution_count": 70,
   "metadata": {},
   "outputs": [
    {
     "data": {
      "text/plain": [
       "0      n\n",
       "1      C\n",
       "2      n\n",
       "3      C\n",
       "4      n\n",
       "      ..\n",
       "886    n\n",
       "887    B\n",
       "888    n\n",
       "889    C\n",
       "890    n\n",
       "Name: Cabin, Length: 891, dtype: category\n",
       "Categories (9, object): [A, B, C, D, ..., F, G, T, n]"
      ]
     },
     "execution_count": 70,
     "metadata": {},
     "output_type": "execute_result"
    }
   ],
   "source": [
    "titanic[\"Cabin\"]"
   ]
  },
  {
   "cell_type": "code",
   "execution_count": 75,
   "metadata": {},
   "outputs": [
    {
     "data": {
      "text/html": [
       "<div>\n",
       "<style scoped>\n",
       "    .dataframe tbody tr th:only-of-type {\n",
       "        vertical-align: middle;\n",
       "    }\n",
       "\n",
       "    .dataframe tbody tr th {\n",
       "        vertical-align: top;\n",
       "    }\n",
       "\n",
       "    .dataframe thead th {\n",
       "        text-align: right;\n",
       "    }\n",
       "</style>\n",
       "<table border=\"1\" class=\"dataframe\">\n",
       "  <thead>\n",
       "    <tr style=\"text-align: right;\">\n",
       "      <th>Cabin</th>\n",
       "      <th>A</th>\n",
       "      <th>B</th>\n",
       "      <th>C</th>\n",
       "      <th>D</th>\n",
       "      <th>E</th>\n",
       "      <th>F</th>\n",
       "      <th>G</th>\n",
       "      <th>T</th>\n",
       "      <th>n</th>\n",
       "    </tr>\n",
       "  </thead>\n",
       "  <tbody>\n",
       "    <tr>\n",
       "      <th>died</th>\n",
       "      <td>8</td>\n",
       "      <td>12</td>\n",
       "      <td>24</td>\n",
       "      <td>8</td>\n",
       "      <td>8</td>\n",
       "      <td>5</td>\n",
       "      <td>2</td>\n",
       "      <td>1</td>\n",
       "      <td>481</td>\n",
       "    </tr>\n",
       "    <tr>\n",
       "      <th>survived</th>\n",
       "      <td>7</td>\n",
       "      <td>35</td>\n",
       "      <td>35</td>\n",
       "      <td>25</td>\n",
       "      <td>24</td>\n",
       "      <td>8</td>\n",
       "      <td>2</td>\n",
       "      <td>0</td>\n",
       "      <td>206</td>\n",
       "    </tr>\n",
       "  </tbody>\n",
       "</table>\n",
       "</div>"
      ],
      "text/plain": [
       "Cabin     A   B   C   D   E  F  G  T    n\n",
       "died      8  12  24   8   8  5  2  1  481\n",
       "survived  7  35  35  25  24  8  2  0  206"
      ]
     },
     "execution_count": 75,
     "metadata": {},
     "output_type": "execute_result"
    }
   ],
   "source": [
    "survived_count=pd.crosstab(index=titanic['Survived'],columns=titanic['Cabin'])\n",
    "survived_count.index = [\"died\",\"survived\"]\n",
    "survived_count"
   ]
  },
  {
   "cell_type": "code",
   "execution_count": 84,
   "metadata": {},
   "outputs": [
    {
     "data": {
      "text/html": [
       "<div>\n",
       "<style scoped>\n",
       "    .dataframe tbody tr th:only-of-type {\n",
       "        vertical-align: middle;\n",
       "    }\n",
       "\n",
       "    .dataframe tbody tr th {\n",
       "        vertical-align: top;\n",
       "    }\n",
       "\n",
       "    .dataframe thead th {\n",
       "        text-align: right;\n",
       "    }\n",
       "</style>\n",
       "<table border=\"1\" class=\"dataframe\">\n",
       "  <thead>\n",
       "    <tr style=\"text-align: right;\">\n",
       "      <th></th>\n",
       "      <th>Class1</th>\n",
       "      <th>Class2</th>\n",
       "      <th>Class3</th>\n",
       "      <th>Row_Total</th>\n",
       "    </tr>\n",
       "  </thead>\n",
       "  <tbody>\n",
       "    <tr>\n",
       "      <th>Died</th>\n",
       "      <td>80</td>\n",
       "      <td>97</td>\n",
       "      <td>372</td>\n",
       "      <td>549</td>\n",
       "    </tr>\n",
       "    <tr>\n",
       "      <th>Survived</th>\n",
       "      <td>136</td>\n",
       "      <td>87</td>\n",
       "      <td>119</td>\n",
       "      <td>342</td>\n",
       "    </tr>\n",
       "    <tr>\n",
       "      <th>Column_Total</th>\n",
       "      <td>216</td>\n",
       "      <td>184</td>\n",
       "      <td>491</td>\n",
       "      <td>891</td>\n",
       "    </tr>\n",
       "  </tbody>\n",
       "</table>\n",
       "</div>"
      ],
      "text/plain": [
       "              Class1  Class2  Class3  Row_Total\n",
       "Died              80      97     372        549\n",
       "Survived         136      87     119        342\n",
       "Column_Total     216     184     491        891"
      ]
     },
     "execution_count": 84,
     "metadata": {},
     "output_type": "execute_result"
    }
   ],
   "source": [
    "survived_class=pd.crosstab(index=titanic['Survived'],\n",
    "                           columns=titanic['Pclass'],\n",
    "                          margins=True)\n",
    "survived_class.columns = [\"Class1\",\"Class2\",\"Class3\",\"Row_Total\"]\n",
    "survived_class.index = [\"Died\",\"Survived\",\"Column_Total\"]\n",
    "survived_class"
   ]
  },
  {
   "cell_type": "code",
   "execution_count": 90,
   "metadata": {},
   "outputs": [
    {
     "data": {
      "text/html": [
       "<div>\n",
       "<style scoped>\n",
       "    .dataframe tbody tr th:only-of-type {\n",
       "        vertical-align: middle;\n",
       "    }\n",
       "\n",
       "    .dataframe tbody tr th {\n",
       "        vertical-align: top;\n",
       "    }\n",
       "\n",
       "    .dataframe thead th {\n",
       "        text-align: right;\n",
       "    }\n",
       "</style>\n",
       "<table border=\"1\" class=\"dataframe\">\n",
       "  <thead>\n",
       "    <tr style=\"text-align: right;\">\n",
       "      <th></th>\n",
       "      <th>Class1</th>\n",
       "      <th>Class2</th>\n",
       "      <th>Class3</th>\n",
       "      <th>Row_Total</th>\n",
       "    </tr>\n",
       "  </thead>\n",
       "  <tbody>\n",
       "    <tr>\n",
       "      <th>Died</th>\n",
       "      <td>0.089787</td>\n",
       "      <td>0.108866</td>\n",
       "      <td>0.417508</td>\n",
       "      <td>0.616162</td>\n",
       "    </tr>\n",
       "    <tr>\n",
       "      <th>Survived</th>\n",
       "      <td>0.152637</td>\n",
       "      <td>0.097643</td>\n",
       "      <td>0.133558</td>\n",
       "      <td>0.383838</td>\n",
       "    </tr>\n",
       "    <tr>\n",
       "      <th>Column_Total</th>\n",
       "      <td>0.242424</td>\n",
       "      <td>0.206510</td>\n",
       "      <td>0.551066</td>\n",
       "      <td>1.000000</td>\n",
       "    </tr>\n",
       "  </tbody>\n",
       "</table>\n",
       "</div>"
      ],
      "text/plain": [
       "                Class1    Class2    Class3  Row_Total\n",
       "Died          0.089787  0.108866  0.417508   0.616162\n",
       "Survived      0.152637  0.097643  0.133558   0.383838\n",
       "Column_Total  0.242424  0.206510  0.551066   1.000000"
      ]
     },
     "execution_count": 90,
     "metadata": {},
     "output_type": "execute_result"
    }
   ],
   "source": [
    "survived_class/survived_class.loc[\"Column_Total\",\"Row_Total\"]"
   ]
  },
  {
   "cell_type": "code",
   "execution_count": 94,
   "metadata": {},
   "outputs": [],
   "source": [
    "d = {'Name':pd.Series(['Tom','James','Ricky','Vin','Steve','Smith','Jack',\n",
    "   'Lee','David','Gasper','Betina','Andres']),\n",
    "   'Age':pd.Series([25,26,25,23,30,29,23,34,40,30,51,46]),\n",
    "   'Rating':pd.Series([4.23,3.24,3.98,2.56,3.20,4.6,3.8,3.78,2.98,4.80,4.10,3.65])\n",
    "}\n",
    "df=pd.DataFrame(d)\n"
   ]
  },
  {
   "cell_type": "code",
   "execution_count": 113,
   "metadata": {},
   "outputs": [
    {
     "name": "stdout",
     "output_type": "stream",
     "text": [
      "Name      12\n",
      "Age       12\n",
      "Rating    12\n",
      "dtype: int64\n"
     ]
    }
   ],
   "source": [
    "print(df.count())\n"
   ]
  },
  {
   "cell_type": "code",
   "execution_count": 114,
   "metadata": {},
   "outputs": [
    {
     "name": "stdout",
     "output_type": "stream",
     "text": [
      "Name      TomJamesRickyVinSteveSmithJackLeeDavidGasperBe...\n",
      "Age                                                     382\n",
      "Rating                                                44.92\n",
      "dtype: object\n"
     ]
    }
   ],
   "source": [
    "print(df.sum())\n"
   ]
  },
  {
   "cell_type": "code",
   "execution_count": 115,
   "metadata": {},
   "outputs": [
    {
     "name": "stdout",
     "output_type": "stream",
     "text": [
      "Age       31.833333\n",
      "Rating     3.743333\n",
      "dtype: float64\n"
     ]
    }
   ],
   "source": [
    "print(df.mean())\n"
   ]
  },
  {
   "cell_type": "code",
   "execution_count": 116,
   "metadata": {},
   "outputs": [
    {
     "name": "stdout",
     "output_type": "stream",
     "text": [
      "Age       29.50\n",
      "Rating     3.79\n",
      "dtype: float64\n"
     ]
    }
   ],
   "source": [
    "print(df.median())\n"
   ]
  },
  {
   "cell_type": "code",
   "execution_count": 117,
   "metadata": {},
   "outputs": [
    {
     "name": "stdout",
     "output_type": "stream",
     "text": [
      "      Name   Age  Rating\n",
      "0   Andres  23.0    2.56\n",
      "1   Betina  25.0    2.98\n",
      "2    David  30.0    3.20\n",
      "3   Gasper   NaN    3.24\n",
      "4     Jack   NaN    3.65\n",
      "5    James   NaN    3.78\n",
      "6      Lee   NaN    3.80\n",
      "7    Ricky   NaN    3.98\n",
      "8    Smith   NaN    4.10\n",
      "9    Steve   NaN    4.23\n",
      "10     Tom   NaN    4.60\n",
      "11     Vin   NaN    4.80\n"
     ]
    }
   ],
   "source": [
    "print(df.mode())\n"
   ]
  },
  {
   "cell_type": "code",
   "execution_count": 118,
   "metadata": {},
   "outputs": [
    {
     "name": "stdout",
     "output_type": "stream",
     "text": [
      "Age       9.232682\n",
      "Rating    0.661628\n",
      "dtype: float64\n"
     ]
    }
   ],
   "source": [
    "print(df.std())\n"
   ]
  },
  {
   "cell_type": "code",
   "execution_count": 119,
   "metadata": {},
   "outputs": [
    {
     "name": "stdout",
     "output_type": "stream",
     "text": [
      "Name      Andres\n",
      "Age           23\n",
      "Rating      2.56\n",
      "dtype: object\n"
     ]
    }
   ],
   "source": [
    "print(df.min())\n"
   ]
  },
  {
   "cell_type": "code",
   "execution_count": 120,
   "metadata": {},
   "outputs": [
    {
     "name": "stdout",
     "output_type": "stream",
     "text": [
      "Name      Vin\n",
      "Age        51\n",
      "Rating    4.8\n",
      "dtype: object\n"
     ]
    }
   ],
   "source": [
    "print(df.max())"
   ]
  },
  {
   "cell_type": "code",
   "execution_count": 123,
   "metadata": {},
   "outputs": [
    {
     "name": "stdout",
     "output_type": "stream",
     "text": [
      "       Name        Age     Rating\n",
      "count    12  12.000000  12.000000\n",
      "unique   12        NaN        NaN\n",
      "top     Lee        NaN        NaN\n",
      "freq      1        NaN        NaN\n",
      "mean    NaN  31.833333   3.743333\n",
      "std     NaN   9.232682   0.661628\n",
      "min     NaN  23.000000   2.560000\n",
      "25%     NaN  25.000000   3.230000\n",
      "50%     NaN  29.500000   3.790000\n",
      "75%     NaN  35.500000   4.132500\n",
      "max     NaN  51.000000   4.800000\n"
     ]
    }
   ],
   "source": [
    "print(df.describe(include='all'))"
   ]
  },
  {
   "cell_type": "code",
   "execution_count": 128,
   "metadata": {},
   "outputs": [],
   "source": [
    "import seaborn as sns\n",
    "from scipy import stats\n",
    "from scipy.stats import norm"
   ]
  },
  {
   "cell_type": "code",
   "execution_count": 132,
   "metadata": {},
   "outputs": [
    {
     "data": {
      "text/plain": [
       "[Text(0, 0.5, 'Frequency'), Text(0.5, 0, 'Normal')]"
      ]
     },
     "execution_count": 132,
     "metadata": {},
     "output_type": "execute_result"
    },
    {
     "data": {
      "image/png": "[encoded data removed]",
      "text/plain": [
       "<Figure size 432x288 with 1 Axes>"
      ]
     },
     "metadata": {
      "needs_background": "light"
     },
     "output_type": "display_data"
    }
   ],
   "source": [
    "veri_normal = norm.rvs(size=10000,loc=0,scale=1)\n",
    "\n",
    "ax = sns.distplot(veri_normal)\n",
    "ax = sns.distplot(veri_normal, bins=20, kde=True, color= \"orange\")\n",
    "\n",
    "ax.set(xlabel='Normal', ylabel='Frequency')"
   ]
  },
  {
   "cell_type": "code",
   "execution_count": 133,
   "metadata": {},
   "outputs": [],
   "source": [
    "olcumler = np.array([17, 160, 234, 149, 145, 107, 197, 75, 201, 225, 211, 119, \n",
    "               157, 145, 127, 244, 163, 114, 145,  65, 112, 185, 202, 146,\n",
    "               203, 224, 203, 114, 188, 156, 187, 154, 177, 95, 165, 50, 110, \n",
    "       216, 138, 151, 166, 135, 155, 84, 251, 173, 131, 207, 121, 120])"
   ]
  },
  {
   "cell_type": "code",
   "execution_count": 134,
   "metadata": {},
   "outputs": [
    {
     "data": {
      "text/plain": [
       "<matplotlib.axes._subplots.AxesSubplot at 0x20ee39d9e08>"
      ]
     },
     "execution_count": 134,
     "metadata": {},
     "output_type": "execute_result"
    },
    {
     "data": {
      "image/png": "[encoded data removed]",
      "text/plain": [
       "<Figure size 432x288 with 1 Axes>"
      ]
     },
     "metadata": {
      "needs_background": "light"
     },
     "output_type": "display_data"
    }
   ],
   "source": [
    "sns.distplot(olcumler)"
   ]
  },
  {
   "cell_type": "code",
   "execution_count": 139,
   "metadata": {},
   "outputs": [
    {
     "data": {
      "text/plain": [
       "[Text(0, 0.5, 'Frequency'), Text(0.5, 0, 'Normal')]"
      ]
     },
     "execution_count": 139,
     "metadata": {},
     "output_type": "execute_result"
    },
    {
     "data": {
      "image/png": "[encoded data removed]",
      "text/plain": [
       "<Figure size 432x288 with 1 Axes>"
      ]
     },
     "metadata": {
      "needs_background": "light"
     },
     "output_type": "display_data"
    }
   ],
   "source": [
    "ax = sns.distplot(olcumler)\n",
    "ax = sns.distplot(olcumler, bins=6, kde=True, color= \"orange\")\n",
    "\n",
    "ax.set(xlabel='Normal', ylabel='Frequency')"
   ]
  },
  {
   "cell_type": "code",
   "execution_count": 140,
   "metadata": {},
   "outputs": [
    {
     "data": {
      "text/plain": [
       "DescribeResult(nobs=50, minmax=(17, 251), mean=154.38, variance=2578.0363265306123, skewness=-0.32398897278694483, kurtosis=-0.05849823498415985)"
      ]
     },
     "execution_count": 140,
     "metadata": {},
     "output_type": "execute_result"
    }
   ],
   "source": [
    "stats.describe(olcumler)"
   ]
  },
  {
   "cell_type": "code",
   "execution_count": 145,
   "metadata": {},
   "outputs": [
    {
     "data": {
      "image/png": "[encoded data removed]",
      "text/plain": [
       "<Figure size 432x288 with 1 Axes>"
      ]
     },
     "metadata": {
      "needs_background": "light"
     },
     "output_type": "display_data"
    }
   ],
   "source": [
    "import pylab\n",
    "stats.probplot(olcumler, dist='norm', plot=pylab)\n",
    "pylab.show()"
   ]
  },
  {
   "cell_type": "code",
   "execution_count": 155,
   "metadata": {},
   "outputs": [],
   "source": [
    "import statsmodels.api as sm\n"
   ]
  },
  {
   "cell_type": "code",
   "execution_count": 154,
   "metadata": {},
   "outputs": [
    {
     "data": {
      "image/png": "[encoded data removed]",
      "text/plain": [
       "<Figure size 432x288 with 1 Axes>"
      ]
     },
     "execution_count": 154,
     "metadata": {},
     "output_type": "execute_result"
    },
    {
     "data": {
      "image/png": "[encoded data removed]",
      "text/plain": [
       "<Figure size 432x288 with 1 Axes>"
      ]
     },
     "metadata": {
      "needs_background": "light"
     },
     "output_type": "display_data"
    }
   ],
   "source": [
    "sm.qqplot(olcumler, line ='s')"
   ]
  },
  {
   "cell_type": "code",
   "execution_count": 164,
   "metadata": {},
   "outputs": [
    {
     "name": "stdout",
     "output_type": "stream",
     "text": [
      "Statistics = 98.5 %, p = 78.5 %\n"
     ]
    }
   ],
   "source": [
    "from scipy.stats import shapiro\n",
    "stat, p = shapiro(olcumler)\n",
    "\n",
    "print('Statistics = %2.1f %%, p = %2.1f %%' % (stat*100,p*100))"
   ]
  },
  {
   "cell_type": "code",
   "execution_count": null,
   "metadata": {},
   "outputs": [],
   "source": []
  }
 ],
 "metadata": {
  "kernelspec": {
   "display_name": "Python 3",
   "language": "python",
   "name": "python3"
  },
  "language_info": {
   "codemirror_mode": {
    "name": "ipython",
    "version": 3
   },
   "file_extension": ".py",
   "mimetype": "text/x-python",
   "name": "python",
   "nbconvert_exporter": "python",
   "pygments_lexer": "ipython3",
   "version": "3.7.4"
  }
 },
 "nbformat": 4,
 "nbformat_minor": 4
}
